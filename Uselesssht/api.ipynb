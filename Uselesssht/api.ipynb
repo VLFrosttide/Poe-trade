{
 "cells": [
  {
   "cell_type": "code",
   "execution_count": null,
   "metadata": {},
   "outputs": [],
   "source": [
    "import requests\n",
    "import json"
   ]
  },
  {
   "cell_type": "code",
   "execution_count": null,
   "metadata": {},
   "outputs": [],
   "source": [
    "class POE:\n",
    "    def __init__(self, league, type):\n",
    "        if type == \"Essence\":\n",
    "            url = f\"https://poe.ninja/api/data/itemoverview?league={league}&type={type}\"\n",
    "        if type == \"Currency\":\n",
    "            url = f\"https://poe.ninja/api/data/currencyoverview?league={league}&type={type}\"\n",
    "        \n",
    "        req_data = requests.get(url)\n",
    "        self.json_data = req_data.json()\n",
    "\n",
    "    def get_all_essence_values(self, mapTier_thrushold=6):\n",
    "        result = {}\n",
    "        for i in range(len(self.json_data['lines'])):\n",
    "            if 'mapTier' not in self.json_data['lines'][i]:\n",
    "                continue\n",
    "            name = self.json_data['lines'][i]['name']\n",
    "            mapTier = self.json_data['lines'][i]['mapTier']\n",
    "            chaosValue = self.json_data['lines'][i]['chaosValue']\n",
    "            if mapTier < mapTier_thrushold:\n",
    "                continue\n",
    "            result[name] = {'mapTier':mapTier, 'chaosValue':chaosValue}\n",
    "        return result\n",
    "\n",
    "    def get_all_currency_values(self):\n",
    "        result = {}\n",
    "        for i in range(len(self.json_data['lines'])):\n",
    "            if 'receive' not in self.json_data['lines'][i]:\n",
    "                continue\n",
    "            item_name = self.json_data['lines'][i]['currencyTypeName']\n",
    "            price = self.json_data['lines'][i]['receive']['value']\n",
    "            result[item_name] = price\n",
    "        \n",
    "        return result\n",
    "\n",
    "    def get_essence_value(self, name):\n",
    "        result = self.get_all_currency_values()\n",
    "        if name in result:\n",
    "            return result[name]\n",
    "\n",
    "    def get_currency_value(self, name):\n",
    "        result = self.get_all_currency_values()\n",
    "        if name in result:\n",
    "            return result[name]\n"
   ]
  },
  {
   "cell_type": "code",
   "execution_count": null,
   "metadata": {},
   "outputs": [],
   "source": [
    "a = POE(\"Sanctum\", \"Essence\")\n",
    "print(a.get_all_essence_values())\n",
    "print(a.get_essence_value(\"Essence of Insanity\"))"
   ]
  },
  {
   "cell_type": "code",
   "execution_count": null,
   "metadata": {},
   "outputs": [],
   "source": []
  }
 ],
 "metadata": {
  "interpreter": {
   "hash": "e7370f93d1d0cde622a1f8e1c04877d8463912d04d973331ad4851f04de6915a"
  },
  "kernelspec": {
   "display_name": "Python 3.10.9 64-bit",
   "language": "python",
   "name": "python3"
  },
  "language_info": {
   "codemirror_mode": {
    "name": "ipython",
    "version": 3
   },
   "file_extension": ".py",
   "mimetype": "text/x-python",
   "name": "python",
   "nbconvert_exporter": "python",
   "pygments_lexer": "ipython3",
   "version": "3.10.9"
  },
  "orig_nbformat": 4
 },
 "nbformat": 4,
 "nbformat_minor": 2
}
